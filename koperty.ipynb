{
 "cells": [
  {
   "cell_type": "code",
   "execution_count": 40,
   "metadata": {},
   "outputs": [
    {
     "data": {
      "text/markdown": [
       "### Filmik instruktażowy\n",
       "[filmik link](https://youtu.be/lWbC7C8N1MU?si=q3Ti1hMWoxwrbzY9)\n",
       "\n",
       "\n",
       "### Obliczenia\n",
       "\n",
       "<svg height=\"94\" width=\"144\" xmlns=\"http://www.w3.org/2000/svg\">\n",
       "  <!-- linia pozioma -->\n",
       "  <path d=\"M22 47 L122 47\" style=\"fill:none;stroke:red;stroke-width:1;stroke-dasharray:10,10\" />\n",
       "  <!-- pionowe linie -->\n",
       "  <path d=\"M47 47 L47 72 M97 47 L97 72\" style=\"fill:none;stroke:red;stroke-width:1;stroke-dasharray:10,10\" />\n",
       "  <!-- skosy zgięcia -->\n",
       "  <path d=\"M22 72 L47 47 M122 72 L97 47\" style=\"fill:none;stroke:pink;stroke-width:1;stroke-dasharray:10,10\" />\n",
       "  <!-- obwód koperty -->\n",
       "  <path d=\"M22 22 L22 72 L122 72 L122 22 L22 22 L72 72 L122 22\" style=\"fill:none;stroke:green;stroke-width:4\" />\n",
       "  <text x=\"10\" y=\"38\" style=\"fill:green;\">a</text>\n",
       "  <text x=\"10\" y=\"63\" style=\"fill:green;\">a</text>\n",
       "  <text x=\"128\" y=\"38\" style=\"fill:green;\">a</text>\n",
       "  <text x=\"128\" y=\"63\" style=\"fill:green;\">a</text>\n",
       "  <text x=\"66\" y=\"13\" style=\"fill:green;\">4a</text>\n",
       "  <text x=\"30\" y=\"88\" style=\"fill:green;\">a</text>\n",
       "  <text x=\"55\" y=\"88\" style=\"fill:green;\">a</text>\n",
       "  <text x=\"81\" y=\"88\" style=\"fill:green;\">a</text>\n",
       "  <text x=\"106\" y=\"88\" style=\"fill:green;\">a</text>\n",
       "  Sorry, your browser does not support inline SVG.\n",
       "</svg>\n",
       "\n",
       "<svg height=\"94\" width=\"144\" xmlns=\"http://www.w3.org/2000/svg\">\n",
       "  <!-- linia pozioma -->\n",
       "  <path d=\"M22 47 L122 47\" style=\"fill:none;stroke:red;stroke-width:1;stroke-dasharray:10,10\" />\n",
       "  <path d=\"M22 62 L122 62\" style=\"fill:none;stroke:orange;stroke-width:1;stroke-dasharray:10,10\" />\n",
       "  <!-- pionowe linie -->\n",
       "  <!-- <path d=\"M47 47 L47 72 M97 47 L97 72\" style=\"fill:none;stroke:red;stroke-width:1;stroke-dasharray:10,10\" /> -->\n",
       "  <!-- skosy zgięcia -->\n",
       "  <!-- <path d=\"M22 72 L47 47 M122 72 L97 47\" style=\"fill:none;stroke:pink;stroke-width:1;stroke-dasharray:10,10\" /> -->\n",
       "  <!-- obwód koperty -->\n",
       "  <path d=\"M22 22 L22 72 L122 72 L122 22 L22 22 L72 62 L122 22\" style=\"fill:none;stroke:green;stroke-width:4\" />\n",
       "  <!-- <text x=\"10\" y=\"38\" style=\"fill:green;\">a</text>\n",
       "  <text x=\"10\" y=\"63\" style=\"fill:green;\">a</text>\n",
       "  <text x=\"128\" y=\"38\" style=\"fill:green;\">a</text>\n",
       "  <text x=\"128\" y=\"63\" style=\"fill:green;\">a</text>\n",
       "  <text x=\"66\" y=\"13\" style=\"fill:green;\">4a</text>\n",
       "  <text x=\"30\" y=\"88\" style=\"fill:green;\">a</text>\n",
       "  <text x=\"55\" y=\"88\" style=\"fill:green;\">a</text>\n",
       "  <text x=\"81\" y=\"88\" style=\"fill:green;\">a</text>\n",
       "  <text x=\"106\" y=\"88\" style=\"fill:green;\">a</text> -->\n",
       "  <text x=\"45\" y=\"58\" style=\"fill:green;font-size:20px;\">{</text>\n",
       "  <text x=\"25\" y=\"58\" style=\"fill:green;font-size:10px;\">b/2</math></text>\n",
       "  Sorry, your browser does not support inline SVG.\n",
       "</svg>\n",
       "\n",
       "- x - dłuższa krawędź kartki (poziomo)\n",
       "- y - krótsza krawędź kartki (pionowo)\n",
       "\n",
       "$$\\left\\{\\begin{array}{rcl}\n",
       "x&=&6a+b\\\\\n",
       "y&=&4a+\\frac{1}{2}b\\\\\n",
       "\\end{array} \\right.$$\n",
       "\n",
       "$$\n",
       "0 \\quad < \\quad b \\quad \\leqslant \\quad 2a \\quad < \\quad y \\quad < \\quad x\n",
       "$$\n",
       "\n",
       "\n",
       "$$\n",
       "\\left\\{\\begin{array}{rcl}\n",
       "0 &<& b &\\leqslant& 2a \\\\[1.5ex]\n",
       "\\frac{1}{8}x &\\leqslant& a &\\leqslant& \\frac{1}{6}x \\\\[1.5ex]\n",
       "\\frac{1}{5}y &\\leqslant& a &\\leqslant& \\frac{1}{4}y\n",
       "\\end{array} \\right.\n",
       "$$\n",
       "\n",
       "\n"
      ],
      "text/plain": [
       "<IPython.core.display.Markdown object>"
      ]
     },
     "metadata": {},
     "output_type": "display_data"
    }
   ],
   "source": [
    "from IPython.display import Markdown, display\n",
    "\n",
    "# Wczytaj zawartość pliku tekstowego\n",
    "with open('koperty.md', 'r', encoding='utf-8') as file:\n",
    "    content = file.read()\n",
    "\n",
    "# Wyświetl jako Markdown\n",
    "display(Markdown(content))"
   ]
  },
  {
   "cell_type": "code",
   "execution_count": null,
   "metadata": {},
   "outputs": [],
   "source": []
  }
 ],
 "metadata": {
  "kernelspec": {
   "display_name": "base",
   "language": "python",
   "name": "python3"
  },
  "language_info": {
   "codemirror_mode": {
    "name": "ipython",
    "version": 3
   },
   "file_extension": ".py",
   "mimetype": "text/x-python",
   "name": "python",
   "nbconvert_exporter": "python",
   "pygments_lexer": "ipython3",
   "version": "3.12.3"
  }
 },
 "nbformat": 4,
 "nbformat_minor": 2
}
